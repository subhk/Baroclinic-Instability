{
 "cells": [
  {
   "cell_type": "markdown",
   "metadata": {
    "slideshow": {
     "slide_type": "slide"
    }
   },
   "source": [
    "### Phillips Problem:\n",
    "Two-layer barcolinic instability problem is famously known as 'Phillips Problem'. This problem includes the effect of $\\beta$, missing in Eady problem.\n",
    "\n",
    "### Recap:\n",
    "The shallow water QG potential vorticity can be wrtiien as:\n",
    "$$\n",
    "\\frac{D q}{Dt} = 0,\n",
    "$$\n",
    "where $$q=\\nabla^2 \\psi + \\beta y -  \\frac{f_0}{H} \\eta = \\nabla^2 \\psi + \\beta y - \\frac{1}{L_d^2} \\psi$$.\n",
    "\n",
    "From the above equation, we can see there is two interesting limits for $\\beta=0$:\n",
    "\n",
    "(a) **motion of scale much smaller than defromation radius, $L \\ll L_d$:**\n",
    "$$\n",
    "\\frac{\\partial \\zeta}{\\partial t} + \\mathcal{J} (\\psi, \\zeta) = 0, \n",
    "$$\n",
    "where $\\zeta = \\nabla^2 \\psi$, and $\\mathcal{J}(\\psi, \\zeta) = \\psi_x \\zeta_y - \\psi_y \\zeta_x$.  \n",
    "Thus, the motion obeys **two-dimensional vorticity equation**."
   ]
  },
  {
   "cell_type": "markdown",
   "metadata": {
    "slideshow": {
     "slide_type": "slide"
    }
   },
   "source": [
    "(b) **motion of scale much larger than defromation radius, $L \\ll L_d$:**\n",
    "Using the geostrophic and hydrostatic balance, it can be shown that\n",
    "$$\n",
    "\\frac{\\partial b^\\prime/\\partial t}{N^2} \\sim Ro \\frac{L^2}{L_d^2}.\n",
    "$$\n",
    "This means that if the scale of motion is same as or smaller than the deformation radius, and Rossby number is small, \n",
    "then the variation of the perturbation stratification is small than the background stratification - this is one of the important point in QG scaling. This makes:\n",
    "$$\n",
    "\\frac{\\partial \\psi}{\\partial t} + \\mathcal{J}(\\psi, \\psi) = 0.\n",
    "$$\n",
    "\n",
    "Thus, we left with a trivial solution that there is no advection and the streamfunction or the height field does not change.\n",
    "However at very large scales Coriolis parameter will vary, therefore, $\\beta$ effect would be important for the dynamics."
   ]
  },
  {
   "cell_type": "markdown",
   "metadata": {
    "slideshow": {
     "slide_type": "slide"
    }
   },
   "source": [
    "**Two-layer QG equations:**\n",
    "\n",
    "<img src=\"assets/2L_QG.png\" width=30%>\n",
    "\n",
    "For each layer, the PV equation:\n",
    "$$\n",
    "\\frac{DQ_i}{Dt} = 0, \n",
    "$$\n",
    "where $Q_i = ({\\zeta_i +f})/{h_i}$, and $h_i = H_i + h^\\prime_i$, where $|h^\\prime_i| \\ll H_i$.\n",
    "\n",
    "Under this approximation, PV can be expressed as (if the Rossby numver is small):\n",
    "$$\n",
    "Q_i = \\frac{1}{H_i} \\big(\\zeta_i + f \\big) \\big( 1- \\frac{h^\\prime_i}{H} \\big) = \\frac{1}{H_i} \\big(\\zeta_i + f - f_0 \\frac{h^\\prime_i}{H_i}  \\big)\n",
    "$$\n",
    "In the advection of PV, only the variation of the Coriolis paramter is important. Therefore, PV can be written as:\n",
    "$$\n",
    "q_i = \\beta y + \\zeta_i - f_0 \\frac{h^\\prime_i}{H}\n",
    "$$\n"
   ]
  },
  {
   "cell_type": "markdown",
   "metadata": {
    "slideshow": {
     "slide_type": "subslide"
    }
   },
   "source": [
    "To obtain the closed-form of the equation, we will assume that the zeroth-order equation is the Geostrophic balance.\n",
    "The equations for each layer:\n",
    "$$\n",
    "f_0 \\widehat{z} \\times  \\mathbf{u}_0 = - g \\nabla \\eta_0 = - g \\nabla \\big( h^\\prime_1 + h^\\prime_2 + \\eta_b ), \\\\\n",
    "f_0 \\widehat{z} \\times  \\mathbf{u}_1 = - g \\nabla \\eta_0 - g^\\prime (h^\\prime_2 + \\eta_b) \n",
    "= - g \\nabla \\big( h^\\prime_1 + h^\\prime_2 + \\eta_b ) - g^\\prime \\nabla \\big( h^\\prime_2 + \\eta_b ),  \n",
    "$$\n",
    "\n",
    "where $g^\\prime = g (\\rho_2 - \\rho_1)/\\rho_1$.\n",
    "\n",
    "Therefore the streamfunction for each layer:\n",
    "$$\n",
    "\\psi_1 = \\frac{g}{f_0} \\big( h^\\prime_1 + h^\\prime_2 + \\eta_b ),  \\\\\n",
    "\\psi_2 = \\frac{g}{f_0} \\big( h^\\prime_1 + h^\\prime_2 + \\eta_b ) + \\frac{g^\\prime}{f_0} \\big( h^\\prime_2 + \\eta_b ), \n",
    "$$\n",
    "which gives:\n",
    "$$\n",
    "h^\\prime_1 = \\frac{f_0}{g} \\big( \\psi_1 - \\psi_2 \\big) + \\frac{f_0}{g} \\psi_1, \\\\\n",
    "h^\\prime_2 = \\frac{f_0}{g} \\big( \\psi_2 - \\psi_1 \\big) - \\eta_b.\n",
    "$$\n",
    "\n",
    "The interface perurbation amplitude:\n",
    "$$\n",
    "\\eta_0^\\prime = \\frac{f_0}{g} \\psi_1, \\\\\n",
    "\\eta_1^\\prime = \\frac{f_0}{g} \\big( \\psi_1 - \\psi_2 \\big).\n",
    "$$"
   ]
  },
  {
   "cell_type": "markdown",
   "metadata": {
    "slideshow": {
     "slide_type": "subslide"
    }
   },
   "source": [
    "The PV at each layer:\n",
    "$$\n",
    "q_1 = \\beta y + \\nabla^2 \\psi_1 + \\frac{f_0}{g^\\prime H_1} \\big( \\psi_2 - \\psi_1 \\big) - \\frac{f_0^2}{g H_1} \\psi_1, \\\\\n",
    "q_2 = \\beta y + \\nabla^2 \\psi_2 + \\frac{f_0}{g^\\prime H_2} \\big( \\psi_1 - \\psi_2 \\big) + f_0 \\frac{\\eta_b}{H_2}.\n",
    "$$\n",
    "\n",
    "In the rigid-lid approximation, the last term of the last equation vanishes. PV equation for each layer:\n",
    "$$\n",
    "\\frac{\\partial q_i}{\\partial t} + \\mathcal{J} \\big( \\psi_i, q_i \\big) = 0.\n",
    "$$"
   ]
  },
  {
   "cell_type": "markdown",
   "metadata": {
    "slideshow": {
     "slide_type": "slide"
    }
   },
   "source": [
    "#### **Two-layer continuously stratified QG equation:**\n",
    "\n",
    "PV equation (thickness of each layer is $H/2$):\n",
    "$$\n",
    "\\frac{D}{Dt} \\Big[ \\beta y + \\zeta_i + \\frac{k_d^2}{2} \\big(\\psi_i - \\psi_j \\big) \\Big] = 0, \n",
    "$$\n",
    "where $i=1, 2$, $j=3-i$ and $k_d$ is defined by\n",
    "$$\n",
    "k_d = \\Big( \\frac{2f_0}{NH} \\Big)^2.\n",
    "$$\n",
    "The basic state: $\\Psi_1 = -U y$, $\\Psi_2 = + U y$.\n",
    "\n",
    "The basic state PV: $Q_1 = \\beta y + k_d^2 U y, Q_2 =  \\beta y - k_d^2 U y.$\n",
    "\n",
    "The linearized PV equation expressed as:\n",
    "$$\n",
    "\\frac{\\partial q^\\prime_i}{\\partial t} + U_i \\frac{\\partial q^\\prime_i}{\\partial x} + v^\\prime_i \\frac{\\partial Q_i}{\\partial y} = 0,\n",
    "$$"
   ]
  },
  {
   "cell_type": "markdown",
   "metadata": {
    "slideshow": {
     "slide_type": "slide"
    }
   },
   "source": [
    "or, more explicitly,\n",
    "$$\n",
    "\\Big( \\frac{\\partial}{\\partial t} + U \\frac{\\partial}{\\partial x} \\Big) \\Big[ \\nabla^2 \\psi^\\prime_1 + \\frac{k_d^2}{2} \\big(\\psi^\\prime_2 - \\psi^\\prime_1 \\big)\n",
    "\\Big] + \\frac{\\partial \\psi^\\prime_1}{\\partial x} \\big( \\beta + k_d^2 U \\big) = 0, \\\\\n",
    "\\Big( \\frac{\\partial}{\\partial t} - U \\frac{\\partial}{\\partial x} \\Big) \\Big[ \\nabla^2 \\psi^\\prime_2 - \\frac{k_d^2}{2} \\big(\\psi^\\prime_2 - \\psi^\\prime_1 \\big)\n",
    "\\Big] + \\frac{\\partial \\psi^\\prime_2}{\\partial x} \\big( \\beta - k_d^2 U \\big) = 0.\n",
    "$$\n",
    "\n",
    "We assume a doubley-periodic domain, and assume that the disturbance has the following form:\n",
    "$$\n",
    "\\psi_i^\\prime = \\widetilde{\\psi}_i^\\prime e^{ik(x-ct)+ily}.\n",
    "$$\n",
    "\n",
    "Upon substitution, we get:\n",
    "$$\n",
    "ik(U-c) \\big[ -K^2 \\widetilde{\\psi}_1 + k_d^2 \\big(\\widetilde{\\psi}_2 - \\widetilde{\\psi}_1 \\big)/2 \\big] + i k \\big( \\beta + k_d^2 U \\big) \\widetilde{\\psi}_1 =0 , \\\\\n",
    "-ik(U+c) \\big[ -K^2 \\widetilde{\\psi}_2 - k_d^2 \\big(\\widetilde{\\psi}_2 - \\widetilde{\\psi}_1 \\big)/2 \\big] + i k \\big( \\beta - k_d^2 U \\big) \\widetilde{\\psi}_2 =0, \n",
    "$$\n",
    "\n",
    "where $K^2 = k^2 + l^2$. Thus, upon solving, we get:\n",
    "$$\n",
    "c = -\\frac{\\beta}{K^2 + k_d^2} \\Bigg\\{ 1+\\frac{k_d^2}{2K^2} \\pm \\frac{k_d^2}{2K^2} \\Bigg[ 1 + \\frac{4 K^4 (K^4 - K_d^4)}{k_\\beta^4 k_d^4} \\Bigg]^{1/2} \\Bigg \\},\n",
    "$$\n",
    "\n",
    "where $k_\\beta=\\sqrt{\\beta/U}$, its inverse known as Kuo scale."
   ]
  },
  {
   "cell_type": "markdown",
   "metadata": {
    "slideshow": {
     "slide_type": "slide"
    }
   },
   "source": [
    "##### **(a) zero shear, non-zero $\\beta$:**\n",
    "\n",
    "If there is no shear, means $U=0$, then the dispersion relation becomes:\n",
    "$$\n",
    "c = -\\frac{\\beta}{K^2}, \\hskip{0.5 cm} \\text{and} \\hskip{0.5 cm} c = -\\frac{\\beta}{K^2 + k_d^2}.\n",
    "$$\n",
    "\n",
    "The first dispersion relation belongs to the barotropic-Rossby wave, and the second relationship is for baroclinic-Rossby waves.\n"
   ]
  },
  {
   "cell_type": "markdown",
   "metadata": {},
   "source": [
    "##### **(b) non-zero shear, zero $\\beta$:**\n",
    "$$\n",
    "\\Big\\{-(U-c) \\Big[ \\Big(\\frac{k_d^2}{2} + k^2 \\Big) + k_d^2 U \\Big] \\Big\\} \\widetilde{\\psi}_1 + \\frac{k_d^2}{2} (U-c) \\widetilde{\\psi}_2 = 0, \\\\\n",
    "\\Big\\{-(U+c) \\Big[ \\Big(\\frac{k_d^2}{2} + k^2 \\Big) + k_d^2 U \\Big] \\Big\\} \\widetilde{\\psi}_2 + \\frac{k_d^2}{2} (U+c) \\widetilde{\\psi}_1G = 0.\n",
    "$$\n",
    "\n",
    "Thus, the solution of $c$ is:\n",
    "$$\n",
    "c = \\pm U \\sqrt{ \\frac{K^2-k_d^2}{K^2+k_d^2} }.\n",
    "$$\n",
    "\n",
    "Therefore there will be instability when $c$ is imaginary, i.e.,  when $K > k_d = \\sqrt{8}/L_d = 2.82/L_d$. This konwn as *higher-wavenumber cut-off*. For Eady problem it occurs at $2.4/L_d$.\n",
    "Highest growth-rate occurs when $l=0$, The maximum growth rate, $\\sigma=(k c_i)$ occurs when $k=0.634 k_d = 1.79/L_d$. For Eady problem it occurs at $1.61/L_d$.\n"
   ]
  },
  {
   "cell_type": "markdown",
   "metadata": {},
   "source": [
    "#### **General Case: non-zero shear and non-zero $\\beta$:**\n",
    "\n",
    "##### **The neutral curve:**\n",
    "For instability, $c$ has to complex i.e., \n",
    "$k_\\beta^4 k_d^4 + 4 K^4(K^4-k_d^4) \\lt 0.$ There will be $K$ at which the instability is zero:\n",
    "\n",
    "$$k_\\beta^4 k_d^4 + 4 K^4(K^4-k_d^4) = 0,$$\n",
    "\n",
    "which gives:\n",
    "$$\n",
    "K^4 = \\frac{k_d^4}{2} \\Bigg( 1 \\pm \\sqrt{1-\\frac{k_\\beta^4}{k_d^4}} \\Bigg).\n",
    "$$"
   ]
  },
  {
   "cell_type": "markdown",
   "metadata": {},
   "source": [
    "##### **Minimun shear for instability:**\n",
    "\n",
    "The instability occurs when the following criterion meets:\n",
    "$$\n",
    "\\frac{\\beta^2 k_d^4}{U^2} \\lt 4 K^4(k_d^4 - K^4).\n",
    "$$\n",
    "The right-hand side becomes minimum when $K^4 = k_d^4/2$. This means,\n",
    "$$\n",
    "\\frac{\\beta^2}{U^2} \\lt k_d^4 ,  \\hskip{0.5 cm} \\Rightarrow k_\\beta \\lt k_d.\n",
    "$$\n",
    "\n",
    "Thus, the instability happens only when **the deformation radius is sufficiently smaller than the Kuo scale**.\n",
    "\n",
    "Minimum shear required for the instability when\n",
    "$$\n",
    "U_1 - U_2 = 2U_c \\gt \\frac{2 \\beta}{k_d^2} = \\frac{1}{4} \\beta L_d^2.\n",
    "$$\n",
    "\n",
    "Define critical shear, $\\Lambda_c = U/H$. Therefore, \n",
    "$$\n",
    "\\Lambda_c = \\frac{\\beta H}{2} \\frac{N^2}{f^2}.\n",
    "$$"
   ]
  },
  {
   "cell_type": "markdown",
   "metadata": {},
   "source": [
    "The basic state PV-gradient for each layer:\n",
    "$$\n",
    "\\frac{\\partial Q_1}{\\partial y} = \\beta + k_d^2 U, \\\\\n",
    "\\frac{\\partial Q_2}{\\partial y} = \\beta - k_d^2 U.\n",
    "$$\n",
    "\n",
    "If we put the values for the **minimum shear** in the above expression which is $U_c = 4 {\\beta}/{k_d^2}$, gives:\n",
    "$$\n",
    "\\frac{\\partial Q_1}{\\partial y} = 5 \\beta, \\hskip{0.5 cm} \\frac{\\partial Q_2}{\\partial y} = -3\\beta.\n",
    "$$\n",
    "\n",
    "This means that for instability to occurs there must be a change-in-sign of the PV somewhere in the domain."
   ]
  },
  {
   "cell_type": "markdown",
   "metadata": {},
   "source": [
    "#### **High-wavenumber cutoff:**\n",
    "Since\n",
    "$$\n",
    "4 K^4 ( k_d^4 - K^4) \\gt \\frac{\\beta^2 k_d^4}{U^2},\n",
    "$$\n",
    "\n",
    "so the necessary condition for the instability is when \n",
    "$$\n",
    "k_d^2 >  K^2.\n",
    "$$\n",
    "\n",
    "Therefore the instability occurs when the scales of the perturbation is larger than the deformation, or in other words,\n",
    "waves shorter than the deformation radius is **always stable**.\n",
    "\n",
    "#### **Low-wavenumber cutoff:**\n",
    "Suppose, $k_d \\gg K$, then the condition becomes:\n",
    "$$\n",
    "4 K^4 \\gt k_\\beta^4, \\hskip{0.5 cm} \\Rightarrow K^2 \\gt \\frac{\\beta}{2U}. \n",
    "$$\n",
    "\n",
    "This mean approximation there is a range of length-scale in which the instability will occurs, and this is given as:\n",
    "$$\n",
    "\\sqrt{\\frac{\\beta}{2U}} \\lt K \\lt k_d.\n",
    "$$"
   ]
  },
  {
   "cell_type": "code",
   "execution_count": null,
   "metadata": {},
   "outputs": [],
   "source": []
  }
 ],
 "metadata": {
  "kernelspec": {
   "display_name": "Python 3",
   "language": "python",
   "name": "python3"
  },
  "language_info": {
   "codemirror_mode": {
    "name": "ipython",
    "version": 3
   },
   "file_extension": ".py",
   "mimetype": "text/x-python",
   "name": "python",
   "nbconvert_exporter": "python",
   "pygments_lexer": "ipython3",
   "version": "3.7.6"
  }
 },
 "nbformat": 4,
 "nbformat_minor": 4
}
