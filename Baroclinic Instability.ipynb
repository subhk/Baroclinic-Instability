{
 "cells": [
  {
   "cell_type": "markdown",
   "metadata": {
    "slideshow": {
     "slide_type": "slide"
    }
   },
   "source": [
    "# Baroclinic Instability: Subhajit Kar (TelAviv University)"
   ]
  },
  {
   "cell_type": "markdown",
   "metadata": {
    "slideshow": {
     "slide_type": "slide"
    }
   },
   "source": [
    "**Baroclinic Instability** is a hydrodynamic instability, arises in a stably stratified and rotating fluid environment.Through *Baroclinic Instalibility* fluid able to release the available potential energy (APE) when its moves through a sloping path, and convert the APE to *Kinetic Energy*. \n",
    "\n",
    "The basic question we ask here for a given basic state whether it is a stable for a small perturbation. Here the basic state is defined by a **Thermal-Wind** (TW) balance. Though the TW is a steady-state solution of the original equation. Nevertheless it is not always true that this TW state is stable with respect to a small perturbation.\n",
    "\n",
    "\n"
   ]
  },
  {
   "cell_type": "markdown",
   "metadata": {
    "slideshow": {
     "slide_type": "slide"
    }
   },
   "source": [
    "## Example: Steady-state basic state gives rise to instability \n",
    "<img src=\"assets/APE.png\" width=65%>\n"
   ]
  },
  {
   "cell_type": "markdown",
   "metadata": {
    "slideshow": {
     "slide_type": "slide"
    }
   },
   "source": [
    "The change in PE can be calculated as\n",
    "$$\n",
    "PE = \\int \\rho g dz.\n",
    "$$\n",
    "\n",
    "Therefore, changes in PE due to the exchange of the two particles:\n",
    "$$\n",
    "\\Delta PE = g ( \\rho_A z_A + \\rho_B z_B - \\rho_A z_B - \\rho_B z_A ) = g (\\rho_A- \\rho_B)(z_A-Z_B) = g \\Delta \\rho \\Delta z.\n",
    "$$\n",
    "\n",
    "The above equation can be further weritten as:\n",
    "$$\n",
    "\\Delta PE = g \\Delta \\rho \\Delta z = g \\Big( \\frac{\\partial \\rho}{\\partial y} L + \\alpha L \\frac{\\partial \\rho}{\\partial z} \\Big) \\alpha L = g L^2 \\frac{\\partial \\rho}{\\partial y} \\alpha \\Big( 1 - \\frac{\\alpha}{\\phi} \\Big),\n",
    "$$\n",
    "where $\\phi=-({\\partial \\rho}/{\\partial y})/({\\partial \\rho}/{\\partial z})$ and $\\alpha$, $\\phi$ are small. Therefore the instability will release **PE** when $\\alpha \\lt \\phi$, and it will be maximum when $\\alpha=\\phi/2$."
   ]
  },
  {
   "cell_type": "markdown",
   "metadata": {
    "slideshow": {
     "slide_type": "slide"
    }
   },
   "source": [
    "## Linearised QG equation:\n",
    "The *Quasi-Geostrophic *equation in terms of *potential vorticity* can be written as:\n",
    "$$\n",
    "\\frac{\\partial q}{\\partial t} + \\mathbf{u} \\cdot \\nabla q = 0, \n",
    "$$\n",
    "where $$q = \\nabla^2 \\psi + \\beta y + \\frac{\\partial}{\\partial z} \\Big( \\frac{f_0^2}{N^2} \\frac{\\partial \\psi}{\\partial z} \\Big), $$\n",
    "and the buoyancy equation at the boundaries $(w=0)$:\n",
    "$$\n",
    "\\frac{\\partial b}{\\partial t} + \\mathbf{u} \\cdot \\nabla b = 0, \n",
    "$$ \n",
    "with $$ b = f_0 \\frac{\\partial \\psi}{\\partial z}$$.\n",
    "\n",
    "The above equations are linearized with respect to a purely zonal flow:\n",
    "$$ \\mathbf{u}(x,y,z,t) = U(y,z) \\hat{x} + \\mathbf{u}^\\prime(x,y,z,t)$$, \n",
    "and the basic-state zonal flow is in a **TW**-balance with the buoyancy."
   ]
  },
  {
   "cell_type": "markdown",
   "metadata": {
    "slideshow": {
     "slide_type": "slide"
    }
   },
   "source": [
    "Therefore the basic-state **PV** can be expressed as:\n",
    "$$\n",
    "Q = \\beta y - \\frac{\\partial U}{\\partial y} + \\frac{\\partial}{\\partial z} \\Big( \\frac{f_0^2}{N^2} \\frac{\\partial \\Psi}{\\partial z} \\Big) = \\beta y + \\frac{\\partial^2  \\Psi}{\\partial y^2} + \\frac{\\partial}{\\partial z} \\Big( \\frac{f_0^2}{N^2} \\frac{\\partial \\Psi}{\\partial z} \\Big), \n",
    "$$\n",
    "where $\\Psi$ is the streamfunction of the basic-state zonal flow: $\\Psi= - {\\partial U}/{\\partial y}$.\n",
    "Note that, the basic-state **PV** $Q$ is function of $y$ and $z$ only.\n",
    "The perturbation equation can be written as:\n",
    "$$\n",
    "\\frac{\\partial q^\\prime}{\\partial t} + U \\frac{\\partial q^\\prime}{\\partial x} + + v^\\prime \\frac{\\partial Q}{\\partial y}  = 0, \n",
    "$$\n",
    "with $$ q=\\frac{\\partial^2 \\psi^\\prime}{\\partial y^2} + \\frac{\\partial}{\\partial z} \\Big( \\frac{f_0^2}{N^2} \\frac{\\partial \\psi^\\prime}{\\partial z} \\Big) $$ and $$v^\\prime = \\frac{\\partial \\psi^\\prime}{\\partial x}.$$\n",
    "\n",
    "The equation of buoyancy at the boundaries:\n",
    "$$\n",
    "\\frac{\\partial b^\\prime}{\\partial t} + U \\frac{\\partial b^\\prime}{\\partial x} + v^\\prime \\frac{\\partial B}{\\partial y} = 0, \n",
    "$$ \n",
    "with $B = f_0{\\partial \\Psi}/{\\partial z}$."
   ]
  },
  {
   "cell_type": "markdown",
   "metadata": {
    "slideshow": {
     "slide_type": "slide"
    }
   },
   "source": [
    "### Normal-mode solution:\n",
    "$$\n",
    "\\psi^\\prime(x,y,z,t) = \\mathcal{Re} \\Big \\{ \\widetilde{\\psi}(y,z) e^{ik(x-ct)} \\Big \\}, $$ \n",
    "\n",
    "and similar forms for other perturbation quantities.\n",
    "\n",
    "Therefore the perturbation **PV** can be written as:\n",
    "$$\n",
    "\\widetilde{q} = \\frac{\\partial^2 \\widetilde{\\psi}}{\\partial y^2} + \\frac{\\partial}{\\partial z} \\Big( \\frac{f^2}{N^2} \\frac{\\partial \\widetilde{\\psi}}{\\partial z} \\Big) - k^2 \\widetilde{\\psi}\n",
    "$$\n",
    "\n",
    "With the above substitution the final equations become:\n",
    "$$\n",
    "\\big( U - c \\big) \\Big[ \\widetilde{\\psi}_{yy} + \\Big( \\frac{f^2}{N^2} \\widetilde{\\psi}_z \\Big)_z - \n",
    "k^2  \\widetilde{\\psi} \\Big ]\n",
    "+ \\widetilde{\\psi} Q_y = 0, \\,\\,\\,\\,\\,\\,\\ 0 <z<H,\n",
    "$$\n",
    "\\\n",
    "$$\n",
    "\\big( U - c \\big) \\widetilde{\\psi}_z - U_z \\widetilde{\\psi} = 0, \\,\\,\\,\\,\\,\\,\\ @z=0, H.\n",
    "$$"
   ]
  },
  {
   "cell_type": "markdown",
   "metadata": {
    "slideshow": {
     "slide_type": "slide"
    }
   },
   "source": [
    "### Necessary condition for Baroclinic instability\n",
    "\n",
    "To find out the **necessary condition** for the instability, we will look at the *Energy-equation* over a domain integration in $y-z$ plane.\n",
    "\n",
    "Now multilply the first equation $\\widetilde{\\psi}^*$:\n",
    "$$\n",
    "\\big( U - c \\big) \\Big[ \\widetilde{\\psi}^* \\widetilde{\\psi}_{yy} + \\widetilde{\\psi}^* \\Big( \\frac{f^2}{N^2} \\widetilde{\\psi}_z \\Big)_z - k^2 |\\widetilde{\\psi}|^2 \\Big] + |\\widetilde{\\psi}|^2 Q_y = 0, \\,\\,\\,\\,\\,\\,\\ 0 <z<H,\n",
    "\\tag{10}\n",
    "$$\n",
    "\n",
    "**First term** of Eq.(10):\n",
    "$$\n",
    "\\int_{y_1}^{y_2} \\widetilde{\\psi}^* \\widetilde{\\psi}_{yy} dy = \\Big[ \\widetilde{\\psi}^* \\widetilde{\\psi}_y \\Big]_{y_1}^{y_2} - \\int_{y_1}^{y_2} |\\widetilde{y}^*|^2 dy.\n",
    "$$\n",
    "\n",
    "If the domain is bounded in the meriodinal direction, then $\\widetilde{\\psi}_y = 0$ at the two boundaries $y=y_1, y_2$. This makes the first term in the above equation to be zero. Therefore\n",
    "$$\n",
    "\\int_{y_1}^{y_2} \\widetilde{\\psi}^* \\widetilde{\\psi}_{yy} dy = - \\int_{y_1}^{y_2} |\\widetilde{\\psi}^*|^2 dy.\n",
    "$$\n",
    "\n",
    "**Second term** of Eq.(10):\n",
    "$$\n",
    "\\int_0^H \\widetilde{\\psi}^* \\Big( \\frac{f^2}{N^2} \\widetilde{\\psi}_z \\Big)_z dz = \\Big[F \\widetilde{\\psi}^* \\psi_z  \\Big]_0^H - \\int_0^H F |\\widetilde{\\psi}_z|^2 dz, \n",
    "= \\Big[ \\frac{F U_z |\\widetilde{\\psi}|^2}{U-c} \\Big]_0^H - \\int_0^H F |\\widetilde{\\psi}_z|^2 dz.\n",
    "$$\n"
   ]
  },
  {
   "cell_type": "markdown",
   "metadata": {
    "slideshow": {
     "slide_type": "slide"
    }
   },
   "source": [
    "From Eq.(10):\n",
    "$$\n",
    "\\int_0^H \\int_{y_1}^{y_2} \\Big[ \\widetilde{\\psi}^* \\widetilde{\\psi}_{yy} + \\widetilde{\\psi}^* \\Big( \\frac{f^2}{N^2} \\widetilde{\\psi}_z \\Big)_z - k^2 |\\widetilde{\\psi}|^2 \\Big] dz dy + \\int_0^H \\int_{y_1}^{y_2} \\frac{Q_y \n",
    "|\\widetilde{\\psi}|^2}{U-c} dz dy = 0.\n",
    "$$\n",
    "\n",
    "$$\n",
    "\\Rightarrow -\\int_0^H \\int_{y_1}^{y_2} |\\widetilde{\\psi}|^2 dz dy + \\int_{y_1}^{y_2} \\Big[ \\frac{F U_z |\\widetilde{\\psi}|^2}{U-c} \\Big]_0^H dy - \\int_0^H \\int_{y_1}^{y_2} F |\\widetilde{\\psi}_z|^2 dz dy - k^2\n",
    "\\int_0^H \\int_{y_1}^{y_2} |\\widetilde{\\psi}|^2 dz dy \\nonumber \\\\ \n",
    "+ \\int_0^H \\int_{y_1}^{y_2} \\frac{Q_y |\\widetilde{\\psi}|^2}{U-c} dz dy = 0.\n",
    "$$\n",
    "\n",
    "After some rearrangement the above equation becomes:\n",
    "$$\n",
    "\\int_0^H \\int_{y_1}^{y_2} \\Big[ |\\widetilde{\\psi}|^2 + F |\\widetilde{\\psi}_z|^2 + k^2 |\\widetilde{\\psi}|^2 \\Big]\n",
    "dz dy - \\int_{y_1}^{y_2} \\Bigg \\{ \\int_0^H \\frac{Q_y |\\widetilde{\\psi}|^2}{U-c} dz + \\Big[ \\frac{F U_z |\\widetilde{\\psi}|^2}{U-c} \\Big]_0^H \\Bigg \\} dy = 0.\n",
    "$$\n",
    "\n",
    "Note that the first term of the above equation is purely real, while second terms is complex becuase $c$ is complex when there is an instability. Therefore\n",
    "$$\n",
    "-c_i \\int_{y_1}^{y_2} \\Bigg \\{ \\int_0^H \\frac{Q_y |\\widetilde{\\psi}|^2}{(U-c_r)^2+c_i^2} dz + \\Bigg[ \\frac{F U_z |\\widetilde{\\psi}|^2}{(U-c_r)^2+c_i^2} \\Bigg]_0^H \\Bigg \\} dy = 0.\n",
    "$$\n",
    "\n",
    "So for instability to occur $c_i$ must be non-zero and therefore the above integrand must vanish. This gives the famous **Charney-Stern-Pedlosky** (CSP) necessary condition for the baroclinic instability. "
   ]
  },
  {
   "cell_type": "markdown",
   "metadata": {
    "slideshow": {
     "slide_type": "slide"
    }
   },
   "source": [
    "To have instability atleast one of the following criteria has to be satisfied:\n",
    "\n",
    "(a) $Q_y$ has to change **sign** inside the domain, \n",
    "\n",
    "(b) "
   ]
  },
  {
   "cell_type": "markdown",
   "metadata": {
    "slideshow": {
     "slide_type": "slide"
    }
   },
   "source": [
    "### Eady problem:\n",
    "\n",
    "There are few assumptions in the Eady problem which includes:\n",
    "\n",
    "(i) constant $f$-plane, \n",
    "\n",
    "(ii) butoancy frequency $N$ is constant - uniformly stratified, \n",
    "\n",
    "(iii) basic state has uniform shear i.e., $U_0 = \\Lambda z = U z/H$, \n",
    "\n",
    "and (iv) the motion is confined between two rigid-lid.\n",
    "\n",
    "Therefore the basic-state streamfunction $\\Psi=-\\Lambda y z$, and the basic-state PV is:\n",
    "$$\n",
    "Q = \\nabla^2 \\Psi + \\frac{H^2}{L_d^2} \\frac{\\partial^2 \\Psi}{\\partial z^2} = 0.\n",
    "$$\n",
    "where $L_d$ is the internal radius of the deformation.\n",
    "\n"
   ]
  },
  {
   "cell_type": "markdown",
   "metadata": {
    "slideshow": {
     "slide_type": "slide"
    }
   },
   "source": [
    "Therefore the linearised perturbation **PV** equation becomes:\n",
    "$$\n",
    "\\Big( \\frac{\\partial}{\\partial t} + \\Lambda z \\frac{\\partial}{\\partial x} \\Big) \\Big( \\nabla^2 \\psi^\\prime + \\frac{H^2}{L_d^2} \\frac{\\partial^2 \\psi^\\prime}{\\partial z^2} \\Big) = 0.\n",
    "$$\n",
    "\n",
    "We seek a solution of the form: $\\psi^\\prime(y,z,t) = \\widetilde{\\psi}(y,z) e^{ik(x-ct)}$. With this substitution the above equation becomes:\n",
    "$$\n",
    "(\\Lambda z - c) \\Big( \\frac{\\partial^2 \\widetilde{\\psi}}{\\partial y^2} + \\frac{H^2}{L_d^2} \\frac{\\partial^2 \\widetilde{\\psi}}{\\partial z^2} - k^2 \\widetilde{\\psi} \\Big) = 0.\n",
    "$$\n",
    "\n",
    "We also assume the domain is bounded in the meriodinal direction with $\\widetilde{\\psi} = 0$ at $y=+L_y/2$ and $y=-L_y/2$. This makes the solution to write in following form: $\\psi^\\prime(y,z,t) = \\widetilde{\\psi}(z) \\sin (l y) e^{ik(x-ct)}$, $l=n\\pi/L$. \n",
    "Therefore the final form is:\n",
    "$$\n",
    "(\\Lambda z - c) \\Big( \\frac{H^2}{L_d^2} \\frac{d^2 \\widetilde{\\psi}}{d z^2} - (k^2 + l^2)\\widetilde{\\psi} \\Big) = 0.\n",
    "$$\n",
    "\n",
    "The buoyancy perturbation at the two horizontal boundaries:\n",
    "$$\n",
    "(\\Lambda z - c)\\frac{d \\widetilde{\\psi}}{dz} - \\Lambda \\widetilde{\\psi} = 0.\n",
    "$$\n",
    "\n",
    "**at $z=0$**: $$c \\frac{d \\widetilde{\\psi}}{dz} + \\Lambda \\widetilde{\\psi} = 0.$$\n",
    "**at $z=H$**: $$ (\\Lambda H - c)\\frac{d \\widetilde{\\psi}}{dz} - \\Lambda \\widetilde{\\psi} = 0.$$"
   ]
  },
  {
   "cell_type": "markdown",
   "metadata": {
    "slideshow": {
     "slide_type": "slide"
    }
   },
   "source": [
    "If $\\Lambda z \\neq c$, then the solution in the interior becomes:\n",
    "$$\n",
    "\\frac{d^2 \\widetilde{\\psi}}{dz^2} - \\alpha^2 \\widetilde{\\psi} = 0,\n",
    "$$\n",
    "where $\\alpha = L_d^2/H^2 (k^2+l^2)$, and the solution is:\n",
    "$\n",
    "\\widetilde{\\psi} = A \\cosh(\\alpha z) + B \\sinh(\\alpha z), \n",
    "$\n",
    "where $A$ and $B$ are constants. The solutions of $A$ and $B$ are found from the boundary conditions:\n",
    "$$\n",
    "\\Lambda A + \\alpha c B = 0, \\\\\n",
    "A [\\alpha(\\Lambda H - c) \\sinh(\\alpha H) - \\Lambda \\cosh(\\alpha H)] + B [\\alpha(\\Lambda H - c) \\cosh(\\alpha H) - \\Lambda \\sinh(\\alpha H)] = 0.\n",
    "$$\n",
    "\n",
    "Non-trivial solutions exist when the determinant of the matrix is zero. This gives:\n",
    "$$\n",
    "c^2 - U c + U^2 \\Big[ \\frac{1}{\\mu} \\coth(\\mu) - \\frac{1}{\\mu^2} \\Big] = 0.\n",
    "$$\n",
    "$$\n",
    "\\Rightarrow c = \\frac{U}{2} \\pm \\frac{U}{\\mu} \\sqrt{\\frac{\\mu^2}{4} - \\big[\\mu \\coth(\\mu) - 1 \\big]}\n",
    "$$\n",
    "After some re-arrangement of the terms:\n",
    "$$\n",
    "c = \\frac{U}{2} \\pm \\frac{U}{\\mu} \\sqrt{ \\Big(\\frac{\\mu}{2} - \\tanh{\\frac{\\mu}{2}} \\Big)\n",
    "\\Big(\\frac{\\mu}{2} - \\coth{\\frac{\\mu}{2}} \\Big) }\n",
    "$$\n",
    "\n",
    "Since $\\mu/2 \\gt \\tanh(\\mu/2)$ for all $\\mu$. Therefore\n",
    "$$\n",
    "\\frac{\\mu}{2} \\lt \\coth{\\frac{\\mu}{2}}\n",
    "$$\n",
    "which is satisfied when $\\mu \\lt \\mu_c$, and $\\mu_c=2.399$."
   ]
  },
  {
   "cell_type": "markdown",
   "metadata": {
    "slideshow": {
     "slide_type": "slide"
    }
   },
   "source": [
    "The growth rate of the instability, $\\sigma$:\n",
    "$$\n",
    "\\sigma = k \\frac{U}{\\mu} \\sqrt{ \\Big(\\frac{\\mu}{2} - \\tanh{\\frac{\\mu}{2}} \\Big)\n",
    "\\Big(\\coth{\\frac{\\mu}{2}} - \\frac{\\mu}{2}\\Big)}\n",
    "$$\n",
    "\n",
    "The mximum growth-rate occurs when $\\mu=\\mu_m=1.61$. \n",
    "\n",
    "For any $k$, the largest growth-rate occurs for the gravest mode which is $n=1$, i.e., $l=\\pi/L$. "
   ]
  },
  {
   "cell_type": "code",
   "execution_count": 98,
   "metadata": {
    "slideshow": {
     "slide_type": "slide"
    }
   },
   "outputs": [
    {
     "data": {
      "text/plain": [
       "<matplotlib.legend.Legend at 0x7f0de112ae90>"
      ]
     },
     "execution_count": 98,
     "metadata": {},
     "output_type": "execute_result"
    },
    {
     "data": {
      "image/png": "[encoded data removed]",
      "text/plain": [
       "<Figure size 432x288 with 1 Axes>"
      ]
     },
     "metadata": {
      "needs_background": "light"
     },
     "output_type": "display_data"
    }
   ],
   "source": [
    "import numpy as np\n",
    "import matplotlib.pyplot as plt\n",
    "import warnings\n",
    "warnings.filterwarnings('ignore')\n",
    "from matplotlib import rc\n",
    "import matplotlib\n",
    "\n",
    "matplotlib.rcParams['font.family'] = 'DejaVu Serif'\n",
    "matplotlib.rcParams['mathtext.fontset'] = 'dejavuserif'\n",
    "matplotlib.rcParams['mathtext.rm'] = 'DejaVu Serif'\n",
    "matplotlib.rcParams['mathtext.it'] = 'DejaVu Serif:italic'\n",
    "matplotlib.rcParams['mathtext.bf'] = 'DejaVu Serif:bold'\n",
    "matplotlib.rcParams.update({'font.size': 14})\n",
    "\n",
    "#U = 0.1\n",
    "μ = np.linspace(0.0001, 4, 10000)\n",
    "\n",
    "c = (μ/2. - np.tanh(μ/2.))*(μ/2. - 1./np.tanh(μ/2.))\n",
    "sqrt_c = np.zeros( len(c), dtype=np.complex128 )\n",
    "for it in range( len(c) ):\n",
    "    if c[it] < 0:\n",
    "        sqrt_c[it] = np.sqrt(-1.*c[it])*1j\n",
    "    else:\n",
    "        sqrt_c[it] = np.sqrt(c[it])\n",
    "        \n",
    "c_pos = 0*U/2. + 1/μ*sqrt_c\n",
    "c_neg = 0*U/2. - 1/μ*sqrt_c\n",
    "\n",
    "#print( 'val = ', c_pos )\n",
    "\n",
    "fig, ax = plt.subplots()\n",
    "ax.plot( μ, np.real(c_pos), label=r'$c^*_r$(phase speed)', linestyle='-', color='k'  )\n",
    "ax.plot( μ, np.real(c_neg), label=None, linestyle='--', color='k'  )\n",
    "ax.plot( μ, np.imag(c_pos), label=r'$c^*_i$(growth rate)', linestyle='-', color='b' )\n",
    "ax.plot( μ, np.imag(c_neg), label=None, linestyle='--', color='b' )\n",
    "\n",
    "plt.xlabel(r'$\\mu$')\n",
    "plt.ylabel(r'$c^*$')\n",
    "plt.xlim([0., 4.])\n",
    "#plt.ylim([-0.03, 0.03])\n",
    "plt.legend()"
   ]
  },
  {
   "cell_type": "markdown",
   "metadata": {
    "slideshow": {
     "slide_type": "slide"
    }
   },
   "source": [
    "where $c^* = c/U - 0.5$."
   ]
  },
  {
   "cell_type": "code",
   "execution_count": null,
   "metadata": {},
   "outputs": [],
   "source": []
  }
 ],
 "metadata": {
  "celltoolbar": "Slideshow",
  "kernelspec": {
   "display_name": "Python 3",
   "language": "python",
   "name": "python3"
  },
  "language_info": {
   "codemirror_mode": {
    "name": "ipython",
    "version": 3
   },
   "file_extension": ".py",
   "mimetype": "text/x-python",
   "name": "python",
   "nbconvert_exporter": "python",
   "pygments_lexer": "ipython3",
   "version": "3.7.6"
  }
 },
 "nbformat": 4,
 "nbformat_minor": 4
}
